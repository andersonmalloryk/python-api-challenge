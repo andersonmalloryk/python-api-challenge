{
 "cells": [
  {
   "cell_type": "markdown",
   "metadata": {},
   "source": [
    "# WeatherPy\n",
    "----\n",
    "\n",
    "#### Note\n",
    "* Instructions have been included for each segment. You do not have to follow them exactly, but they are included to help you think through the steps."
   ]
  },
  {
   "cell_type": "code",
   "execution_count": 2,
   "metadata": {
    "scrolled": true
   },
   "outputs": [],
   "source": [
    "# Dependencies and Setup\n",
    "import matplotlib.pyplot as plt\n",
    "import pandas as pd\n",
    "import numpy as np\n",
    "import requests\n",
    "import time\n",
    "from scipy.stats import linregress\n",
    "\n",
    "# Import API key\n",
    "from config import weather_api_key\n",
    "\n",
    "# Incorporated citipy to determine city based on latitude and longitude\n",
    "from citipy import citipy\n",
    "\n",
    "# Output File (CSV)\n",
    "output_data_file = \"output_data/cities.csv\"\n",
    "\n",
    "# Range of latitudes and longitudes\n",
    "lat_range = (-90, 90)\n",
    "lng_range = (-180, 180)"
   ]
  },
  {
   "cell_type": "markdown",
   "metadata": {},
   "source": [
    "## Generate Cities List"
   ]
  },
  {
   "cell_type": "code",
   "execution_count": 3,
   "metadata": {},
   "outputs": [],
   "source": [
    "# List for holding lat_lngs and cities\n",
    "lat_lngs = []\n",
    "cities = []\n",
    "\n",
    "# Create a set of random lat and lng combinations (lats go 90 to -90 and lngs go 180 to -180)\n",
    "lats = np.random.uniform(lat_range[0], lat_range[1], size=1500)\n",
    "lngs = np.random.uniform(lng_range[0], lng_range[1], size=1500)\n",
    "lat_lngs = zip(lats, lngs)"
   ]
  },
  {
   "cell_type": "code",
   "execution_count": 4,
   "metadata": {},
   "outputs": [
    {
     "data": {
      "text/plain": [
       "609"
      ]
     },
     "execution_count": 4,
     "metadata": {},
     "output_type": "execute_result"
    }
   ],
   "source": [
    "# Identify nearest city for each lat, lng combination\n",
    "for lat_lng in lat_lngs:\n",
    "    city = citipy.nearest_city(lat_lng[0], lat_lng[1]).city_name\n",
    "    \n",
    "    #If the city is unique, then add it to a our cities list\n",
    "    if city not in cities:\n",
    "        cities.append(city) \n",
    "\n",
    "# Print the city count to confirm sufficient count\n",
    "len(cities)"
   ]
  },
  {
   "cell_type": "markdown",
   "metadata": {},
   "source": [
    "### Perform API Calls\n",
    "* Perform a weather check on each city using a series of successive API calls.\n",
    "* Include a print log of each city as it'sbeing processed (with the city number and city name).\n"
   ]
  },
  {
   "cell_type": "code",
   "execution_count": 4,
   "metadata": {
    "scrolled": true
   },
   "outputs": [],
   "source": [
    "lat = []\n",
    "lng = []\n",
    "temp = []\n",
    "max_temp = []\n",
    "humidity = []\n",
    "clouds = []\n",
    "wind = []\n",
    "country = []\n",
    "date = []\n",
    "\n",
    "url = \"http://api.openweathermap.org/data/2.5/weather?\"\n",
    "units = \"imperial\"\n",
    "\n",
    "# Build partial query URL\n",
    "query_url = f\"{url}appid={weather_api_key}&units={units}&q=\""
   ]
  },
  {
   "cell_type": "code",
   "execution_count": 5,
   "metadata": {},
   "outputs": [
    {
     "name": "stdout",
     "output_type": "stream",
     "text": [
      "Processing Record | upernavik\n",
      "Processing Record | qaanaaq\n",
      "Processing Record | ostrovnoy\n",
      "Processing Record | ribeira grande\n",
      "Processing Record | atuona\n",
      "Processing Record | bluff\n",
      "Processing Record | zhongshu\n",
      "Processing Record | rikitea\n",
      "Processing Record | vaini\n",
      "Processing Record | yabucoa\n",
      "Processing Record | daru\n",
      "Processing Record | puerto ayora\n",
      "Processing Record | vao\n",
      "Processing Record | avarua\n",
      "Processing Record | busselton\n",
      "Processing Record | maple creek\n",
      "Processing Record | bredasdorp\n",
      "Processing Record | evensk\n",
      "Processing Record | deputatskiy\n",
      "Processing Record | koslan\n",
      "Processing Record | jamestown\n",
      "Processing Record | nikolskoye\n",
      "Processing Record | oberkirch\n",
      "Processing Record | rognan\n",
      "Processing Record | cayenne\n",
      "Processing Record | buarcos\n",
      "Processing Record | hermanus\n",
      "Processing Record | tuktoyaktuk\n",
      "Processing Record | plettenberg bay\n",
      "Processing Record | punta arenas\n",
      "Processing Record | san francisco\n",
      "Processing Record | luanda\n",
      "Processing Record | lavrentiya\n",
      "Processing Record | shizukuishi\n",
      "Processing Record | amderma\n",
      "City not found. Skipping...\n",
      "Processing Record | mahebourg\n",
      "Processing Record | arraial do cabo\n",
      "Processing Record | ushuaia\n",
      "Processing Record | mujiayingzi\n",
      "Processing Record | albany\n",
      "Processing Record | meulaboh\n",
      "Processing Record | senno\n",
      "Processing Record | vaitupu\n",
      "City not found. Skipping...\n",
      "Processing Record | kangaatsiaq\n",
      "Processing Record | faya\n",
      "Processing Record | zhanaozen\n",
      "Processing Record | beringovskiy\n",
      "Processing Record | provideniya\n",
      "Processing Record | dong hoi\n",
      "Processing Record | port alfred\n",
      "Processing Record | livramento\n",
      "Processing Record | new norfolk\n",
      "Processing Record | taolanaro\n",
      "City not found. Skipping...\n",
      "Processing Record | faanui\n",
      "Processing Record | bethel\n",
      "Processing Record | east london\n",
      "Processing Record | clyde river\n",
      "Processing Record | urulga\n",
      "City not found. Skipping...\n",
      "Processing Record | kendari\n",
      "Processing Record | norman wells\n",
      "Processing Record | vostok\n",
      "Processing Record | morondava\n",
      "Processing Record | nelson bay\n",
      "Processing Record | mataura\n",
      "Processing Record | cape town\n",
      "Processing Record | padang\n",
      "Processing Record | svetlaya\n",
      "Processing Record | makakilo city\n",
      "Processing Record | ixtapa\n",
      "Processing Record | narsaq\n",
      "Processing Record | kapaa\n",
      "Processing Record | pisco\n",
      "Processing Record | dikson\n",
      "Processing Record | hilo\n",
      "Processing Record | tiksi\n",
      "Processing Record | jumla\n",
      "Processing Record | oktyabrskoye\n",
      "Processing Record | barrow\n",
      "Processing Record | mar del plata\n",
      "Processing Record | lompoc\n",
      "Processing Record | concepcion del oro\n",
      "Processing Record | lorengau\n",
      "Processing Record | chokurdakh\n",
      "Processing Record | kodiak\n",
      "Processing Record | maloy\n",
      "Processing Record | magadi\n",
      "Processing Record | marawi\n",
      "Processing Record | luang prabang\n",
      "Processing Record | leningradskiy\n",
      "Processing Record | los llanos de aridane\n",
      "Processing Record | saint anthony\n",
      "Processing Record | sinnamary\n",
      "Processing Record | tortoli\n",
      "Processing Record | hoquiam\n",
      "Processing Record | saryozek\n",
      "Processing Record | arica\n",
      "Processing Record | georgetown\n",
      "Processing Record | sorland\n",
      "Processing Record | kidal\n",
      "Processing Record | santa vitoria do palmar\n",
      "Processing Record | samusu\n",
      "City not found. Skipping...\n",
      "Processing Record | jutai\n",
      "Processing Record | bowen\n",
      "Processing Record | kaitangata\n",
      "Processing Record | port moresby\n",
      "Processing Record | tasbuget\n",
      "City not found. Skipping...\n",
      "Processing Record | boa esperanca do sul\n",
      "Processing Record | molteno\n",
      "Processing Record | maglaj\n",
      "Processing Record | kalispell\n",
      "Processing Record | carnarvon\n",
      "Processing Record | dimitrovgrad\n",
      "Processing Record | paamiut\n",
      "Processing Record | sokoto\n",
      "Processing Record | coquimbo\n",
      "Processing Record | san patricio\n",
      "Processing Record | talnakh\n",
      "Processing Record | bargal\n",
      "City not found. Skipping...\n",
      "Processing Record | novyy urengoy\n",
      "Processing Record | koster\n",
      "Processing Record | asau\n",
      "Processing Record | villarrica\n",
      "Processing Record | codrington\n",
      "Processing Record | guerrero negro\n",
      "Processing Record | andros town\n",
      "Processing Record | saldanha\n",
      "Processing Record | pangnirtung\n",
      "Processing Record | butaritari\n",
      "Processing Record | manyana\n",
      "Processing Record | karatau\n",
      "Processing Record | linguere\n",
      "Processing Record | emerald\n",
      "Processing Record | ponta do sol\n",
      "Processing Record | mehamn\n",
      "Processing Record | cidreira\n",
      "Processing Record | ilulissat\n",
      "Processing Record | karabash\n",
      "Processing Record | constitucion\n",
      "Processing Record | saskylakh\n",
      "Processing Record | tandil\n",
      "Processing Record | buta\n",
      "Processing Record | flagstaff\n",
      "Processing Record | san cristobal\n",
      "Processing Record | santa rosa\n",
      "Processing Record | illoqqortoormiut\n",
      "City not found. Skipping...\n",
      "Processing Record | kahului\n",
      "Processing Record | moranbah\n",
      "Processing Record | anchorage\n",
      "Processing Record | amga\n",
      "Processing Record | richards bay\n",
      "Processing Record | airai\n",
      "Processing Record | mao\n",
      "Processing Record | klaksvik\n",
      "Processing Record | aklavik\n",
      "Processing Record | weligama\n",
      "Processing Record | hambantota\n",
      "Processing Record | nyrob\n",
      "Processing Record | katsuura\n",
      "Processing Record | chkalovskoye\n",
      "Processing Record | ramotswa\n",
      "Processing Record | mys shmidta\n",
      "City not found. Skipping...\n",
      "Processing Record | zyryanka\n",
      "Processing Record | novosergiyevka\n",
      "Processing Record | umzimvubu\n",
      "City not found. Skipping...\n",
      "Processing Record | chuy\n",
      "Processing Record | sola\n",
      "Processing Record | hasaki\n",
      "Processing Record | tilichiki\n",
      "Processing Record | santarem\n",
      "Processing Record | fare\n",
      "Processing Record | pochutla\n",
      "Processing Record | whitehorse\n",
      "Processing Record | kavaratti\n",
      "Processing Record | castro\n",
      "Processing Record | fort nelson\n",
      "Processing Record | bermejo\n",
      "Processing Record | tandalti\n",
      "Processing Record | lasa\n",
      "Processing Record | ivrea\n",
      "Processing Record | asilah\n",
      "Processing Record | krasnoselkup\n",
      "Processing Record | diapaga\n",
      "Processing Record | kruisfontein\n",
      "Processing Record | rungata\n",
      "City not found. Skipping...\n",
      "Processing Record | sao raimundo das mangabeiras\n",
      "Processing Record | ternate\n",
      "Processing Record | jacareacanga\n",
      "Processing Record | letka\n",
      "Processing Record | bengkulu\n",
      "Processing Record | anadyr\n",
      "Processing Record | chany\n",
      "Processing Record | port elizabeth\n",
      "Processing Record | port lincoln\n",
      "Processing Record | bay shore\n",
      "Processing Record | hvammstangi\n",
      "City not found. Skipping...\n",
      "Processing Record | aktau\n",
      "Processing Record | tasiilaq\n",
      "Processing Record | yerbogachen\n",
      "Processing Record | sa kaeo\n",
      "Processing Record | tuatapere\n",
      "Processing Record | doctor pedro p. pena\n",
      "City not found. Skipping...\n",
      "Processing Record | yulara\n",
      "Processing Record | sanchursk\n",
      "Processing Record | belushya guba\n",
      "City not found. Skipping...\n",
      "Processing Record | salalah\n",
      "Processing Record | luderitz\n",
      "Processing Record | iquitos\n",
      "Processing Record | axixa do tocantins\n",
      "City not found. Skipping...\n",
      "Processing Record | afsin\n",
      "Processing Record | neiafu\n",
      "Processing Record | rio grande\n",
      "Processing Record | matay\n",
      "Processing Record | sentyabrskiy\n",
      "City not found. Skipping...\n",
      "Processing Record | blue springs\n",
      "Processing Record | saint george\n",
      "Processing Record | eureka\n",
      "Processing Record | noboribetsu\n",
      "Processing Record | vilyuysk\n",
      "Processing Record | thompson\n",
      "Processing Record | amapa\n",
      "Processing Record | pacific grove\n",
      "Processing Record | vanavara\n",
      "Processing Record | kitami\n",
      "Processing Record | half moon bay\n",
      "Processing Record | geraldton\n",
      "Processing Record | shimoda\n",
      "Processing Record | muros\n",
      "Processing Record | praia da vitoria\n",
      "Processing Record | kalevala\n",
      "Processing Record | dalvik\n",
      "Processing Record | aykhal\n",
      "Processing Record | port hedland\n",
      "Processing Record | hobart\n",
      "Processing Record | granadilla de abona\n",
      "Processing Record | tigil\n",
      "Processing Record | mikhaylovka\n",
      "Processing Record | attawapiskat\n",
      "City not found. Skipping...\n",
      "Processing Record | saint-philippe\n",
      "Processing Record | digras\n",
      "Processing Record | sisophon\n",
      "Processing Record | tubruq\n",
      "City not found. Skipping...\n",
      "Processing Record | vestmannaeyjar\n",
      "Processing Record | pevek\n",
      "Processing Record | kalmunai\n",
      "Processing Record | warri\n",
      "Processing Record | ulaangom\n",
      "Processing Record | kefalos\n",
      "Processing Record | raymondville\n",
      "Processing Record | kirovskiy\n",
      "Processing Record | lolua\n",
      "City not found. Skipping...\n",
      "Processing Record | omboue\n",
      "Processing Record | genhe\n",
      "Processing Record | rawson\n",
      "Processing Record | oranjestad\n",
      "Processing Record | saleaula\n",
      "City not found. Skipping...\n",
      "Processing Record | menongue\n",
      "Processing Record | corinto\n"
     ]
    },
    {
     "name": "stdout",
     "output_type": "stream",
     "text": [
      "Processing Record | barao de melgaco\n",
      "Processing Record | kadykchan\n",
      "City not found. Skipping...\n",
      "Processing Record | yar-sale\n",
      "Processing Record | severo-kurilsk\n",
      "Processing Record | port macquarie\n",
      "Processing Record | medveda\n",
      "Processing Record | alofi\n",
      "Processing Record | mount gambier\n",
      "Processing Record | cobija\n",
      "Processing Record | bambous virieux\n",
      "Processing Record | kyra\n",
      "Processing Record | reconquista\n",
      "Processing Record | kitui\n",
      "Processing Record | devin\n",
      "Processing Record | mountain home\n",
      "Processing Record | kavieng\n",
      "Processing Record | ondjiva\n",
      "Processing Record | mapiri\n",
      "Processing Record | laje\n",
      "Processing Record | fairlie\n",
      "Processing Record | shakawe\n",
      "Processing Record | berdigestyakh\n",
      "Processing Record | kaoma\n",
      "Processing Record | nyuksenitsa\n",
      "Processing Record | sao filipe\n",
      "Processing Record | chunskiy\n",
      "Processing Record | lata\n",
      "Processing Record | lebu\n",
      "Processing Record | salaberry-de-valleyfield\n",
      "Processing Record | nola\n",
      "Processing Record | husavik\n",
      "Processing Record | veselynove\n",
      "Processing Record | cabo san lucas\n",
      "Processing Record | beloha\n",
      "Processing Record | prince rupert\n",
      "Processing Record | touros\n",
      "Processing Record | hithadhoo\n",
      "Processing Record | yenagoa\n",
      "Processing Record | esperance\n",
      "Processing Record | palmer\n",
      "Processing Record | tura\n",
      "Processing Record | khani\n",
      "Processing Record | tanete\n",
      "Processing Record | khatanga\n",
      "Processing Record | vila franca do campo\n",
      "Processing Record | avera\n",
      "Processing Record | santa rosalia\n",
      "Processing Record | tiznit\n",
      "Processing Record | prado\n",
      "Processing Record | grand-santi\n",
      "Processing Record | washougal\n",
      "Processing Record | claveria\n",
      "Processing Record | hay river\n",
      "Processing Record | labuhan\n",
      "Processing Record | eenhana\n",
      "Processing Record | viloco\n",
      "Processing Record | mbandaka\n",
      "Processing Record | campbell river\n",
      "Processing Record | laizhou\n",
      "Processing Record | mangrol\n",
      "Processing Record | saint-augustin\n",
      "Processing Record | zhuanghe\n",
      "Processing Record | buraydah\n",
      "Processing Record | santa barbara\n",
      "Processing Record | san policarpo\n",
      "Processing Record | poum\n",
      "Processing Record | hobyo\n",
      "Processing Record | zhetybay\n",
      "City not found. Skipping...\n",
      "Processing Record | bubaque\n",
      "Processing Record | bogovarovo\n",
      "Processing Record | poya\n",
      "Processing Record | paracuru\n",
      "Processing Record | diplo\n",
      "Processing Record | fortuna\n",
      "Processing Record | baturaja\n",
      "Processing Record | antalaha\n",
      "Processing Record | shache\n",
      "Processing Record | matamoros\n",
      "Processing Record | vernon\n",
      "Processing Record | visnes\n",
      "Processing Record | takoradi\n",
      "Processing Record | isangel\n",
      "Processing Record | vila velha\n",
      "Processing Record | haimen\n",
      "Processing Record | tezu\n",
      "Processing Record | torbay\n",
      "Processing Record | barentsburg\n",
      "City not found. Skipping...\n",
      "Processing Record | port hardy\n",
      "Processing Record | shitanjing\n",
      "Processing Record | bereda\n",
      "Processing Record | nanortalik\n",
      "Processing Record | haines junction\n",
      "Processing Record | iskateley\n",
      "Processing Record | asayita\n",
      "City not found. Skipping...\n",
      "Processing Record | taman\n",
      "Processing Record | kautokeino\n",
      "Processing Record | mnogovershinnyy\n",
      "Processing Record | baracoa\n",
      "Processing Record | vasvar\n",
      "Processing Record | kaspiyskiy\n",
      "Processing Record | payson\n",
      "Processing Record | itoman\n",
      "Processing Record | astoria\n",
      "Processing Record | cherskiy\n",
      "Processing Record | lewiston\n",
      "Processing Record | valencia\n",
      "Processing Record | najran\n",
      "Processing Record | yankton\n",
      "Processing Record | longyearbyen\n",
      "Processing Record | bull savanna\n",
      "Processing Record | lagoa\n",
      "Processing Record | katangli\n",
      "Processing Record | severodvinsk\n",
      "Processing Record | vardo\n",
      "Processing Record | fallon\n",
      "Processing Record | tautira\n",
      "Processing Record | nizhneyansk\n",
      "City not found. Skipping...\n",
      "Processing Record | yellowknife\n",
      "Processing Record | acapulco\n",
      "Processing Record | nehe\n",
      "Processing Record | wote\n",
      "Processing Record | havelock\n",
      "Processing Record | sonoita\n",
      "Processing Record | hirara\n",
      "Processing Record | broken hill\n",
      "Processing Record | te anau\n",
      "Processing Record | dingle\n",
      "Processing Record | douentza\n",
      "Processing Record | shubarshi\n",
      "Processing Record | biak\n",
      "Processing Record | westpunt\n",
      "City not found. Skipping...\n",
      "Processing Record | zhanatas\n",
      "City not found. Skipping...\n",
      "Processing Record | maanshan\n",
      "Processing Record | olinda\n",
      "Processing Record | minna\n",
      "Processing Record | chernyy yar\n",
      "Processing Record | kirakira\n",
      "Processing Record | chapais\n",
      "Processing Record | victoria\n",
      "Processing Record | tumannyy\n",
      "City not found. Skipping...\n",
      "Processing Record | bilibino\n",
      "Processing Record | benguela\n",
      "Processing Record | sur\n",
      "Processing Record | batagay\n",
      "Processing Record | mount pleasant\n",
      "Processing Record | kitimat\n",
      "Processing Record | luba\n",
      "Processing Record | grafton\n",
      "Processing Record | olbia\n",
      "Processing Record | oranjemund\n",
      "Processing Record | sindor\n",
      "Processing Record | tecpan\n",
      "Processing Record | nara\n",
      "Processing Record | ryotsu\n",
      "Processing Record | gwadar\n",
      "Processing Record | hamilton\n",
      "Processing Record | grand river south east\n",
      "City not found. Skipping...\n",
      "Processing Record | inirida\n",
      "Processing Record | grindavik\n",
      "Processing Record | riyadh\n",
      "Processing Record | veraval\n",
      "Processing Record | bustonkala\n",
      "City not found. Skipping...\n",
      "Processing Record | saurimo\n",
      "Processing Record | mrirt\n",
      "City not found. Skipping...\n",
      "Processing Record | saint-pierre\n",
      "Processing Record | ankola\n",
      "Processing Record | ngukurr\n",
      "City not found. Skipping...\n",
      "Processing Record | payo\n",
      "Processing Record | ayame\n",
      "Processing Record | santa\n",
      "Processing Record | launceston\n",
      "Processing Record | trincomalee\n",
      "Processing Record | coihaique\n",
      "Processing Record | fairbanks\n",
      "Processing Record | gorontalo\n",
      "Processing Record | cam ranh\n",
      "Processing Record | port blair\n",
      "Processing Record | muzhi\n",
      "Processing Record | jiuquan\n",
      "Processing Record | umm lajj\n",
      "Processing Record | black river\n",
      "Processing Record | pedernales\n",
      "Processing Record | burica\n",
      "City not found. Skipping...\n",
      "Processing Record | sulangan\n",
      "Processing Record | alamogordo\n",
      "Processing Record | sao jose da coroa grande\n",
      "Processing Record | santa luzia\n",
      "Processing Record | pavlovka\n",
      "Processing Record | tsihombe\n",
      "City not found. Skipping...\n",
      "Processing Record | camopi\n",
      "Processing Record | qiongshan\n",
      "Processing Record | namatanai\n",
      "Processing Record | wanning\n",
      "Processing Record | kampene\n",
      "Processing Record | indiana\n",
      "Processing Record | presidencia roque saenz pena\n",
      "Processing Record | manadhoo\n",
      "Processing Record | mayo\n",
      "Processing Record | okhotsk\n",
      "Processing Record | sitka\n",
      "Processing Record | kazerun\n",
      "Processing Record | santa maria\n",
      "Processing Record | ambilobe\n",
      "Processing Record | maraba\n",
      "Processing Record | togul\n",
      "Processing Record | palana\n",
      "Processing Record | sagana\n",
      "Processing Record | orichi\n",
      "Processing Record | kailua\n",
      "Processing Record | cullman\n",
      "Processing Record | camacha\n",
      "Processing Record | hami\n",
      "Processing Record | salaga\n",
      "Processing Record | lincoln\n",
      "Processing Record | guilin\n",
      "Processing Record | naze\n",
      "Processing Record | lodja\n",
      "Processing Record | seoul\n",
      "Processing Record | carutapera\n",
      "Processing Record | yuancheng\n",
      "Processing Record | sulecin\n",
      "Processing Record | shchelyayur\n",
      "City not found. Skipping...\n",
      "Processing Record | chumikan\n",
      "Processing Record | santa cruz\n",
      "Processing Record | khandyga\n",
      "Processing Record | tacuarembo\n",
      "Processing Record | dudinka\n",
      "Processing Record | rockland\n",
      "Processing Record | bima\n",
      "Processing Record | iqaluit\n",
      "Processing Record | alvorada\n",
      "Processing Record | methoni\n",
      "Processing Record | babanusah\n",
      "City not found. Skipping...\n",
      "Processing Record | khuzdar\n",
      "Processing Record | duluth\n",
      "Processing Record | tapaua\n",
      "City not found. Skipping...\n",
      "Processing Record | portland\n",
      "Processing Record | aruppukkottai\n",
      "Processing Record | nadbai\n",
      "Processing Record | las vegas\n",
      "Processing Record | nalut\n",
      "Processing Record | manono\n",
      "Processing Record | pangai\n",
      "Processing Record | luxor\n",
      "Processing Record | ibra\n",
      "Processing Record | north bend\n",
      "Processing Record | roma\n",
      "Processing Record | jackson\n",
      "Processing Record | walvis bay\n",
      "Processing Record | sao raimundo nonato\n",
      "Processing Record | luena\n",
      "Processing Record | pangody\n",
      "Processing Record | nytva\n",
      "Processing Record | mana\n",
      "Processing Record | atocha\n",
      "Processing Record | akonolinga\n",
      "Processing Record | neuquen\n",
      "Processing Record | pak chong\n",
      "Processing Record | natal\n",
      "Processing Record | de aar\n",
      "Processing Record | parabel\n",
      "Processing Record | katherine\n",
      "Processing Record | kwekwe\n",
      "Processing Record | mableton\n",
      "Processing Record | mergui\n",
      "City not found. Skipping...\n",
      "Processing Record | san jose\n"
     ]
    },
    {
     "name": "stdout",
     "output_type": "stream",
     "text": [
      "Processing Record | dauriya\n",
      "Processing Record | anloga\n",
      "Processing Record | wapakoneta\n",
      "Processing Record | sedhiou\n",
      "Processing Record | bhandara\n",
      "Processing Record | paysandu\n",
      "Processing Record | blonay\n",
      "Processing Record | ambon\n",
      "Processing Record | abu samrah\n",
      "Processing Record | pecanha\n",
      "Processing Record | kamenetskiy\n",
      "Processing Record | akdepe\n",
      "Processing Record | talcahuano\n",
      "Processing Record | goderich\n",
      "Processing Record | kahramanmaras\n",
      "Processing Record | margate\n",
      "Processing Record | batemans bay\n",
      "Processing Record | kurilsk\n",
      "Processing Record | dandong\n",
      "Processing Record | vaitape\n",
      "Processing Record | diffa\n",
      "Processing Record | talara\n",
      "Processing Record | dunhua\n",
      "Processing Record | kasungu\n",
      "Processing Record | plastun\n",
      "Processing Record | toliary\n",
      "City not found. Skipping...\n",
      "Processing Record | miranorte\n",
      "City not found. Skipping...\n",
      "Processing Record | greenville\n",
      "Processing Record | ossora\n",
      "Processing Record | bolshaya dzhalga\n",
      "Processing Record | gazli\n",
      "Processing Record | almaty\n",
      "Processing Record | abu dhabi\n",
      "Processing Record | palabuhanratu\n",
      "City not found. Skipping...\n",
      "Processing Record | conde\n",
      "Processing Record | sumenep\n",
      "Processing Record | maniitsoq\n",
      "Processing Record | mopipi\n",
      "Processing Record | harper\n",
      "Processing Record | polunochnoye\n",
      "Processing Record | denison\n",
      "Processing Record | kansanshi\n",
      "Processing Record | we\n",
      "City not found. Skipping...\n",
      "Processing Record | salihorsk\n",
      "Processing Record | teguldet\n",
      "Processing Record | gurskoye\n",
      "City not found. Skipping...\n",
      "Processing Record | barcarena\n",
      "Processing Record | dzhusaly\n",
      "City not found. Skipping...\n",
      "Processing Record | linkou\n",
      "Processing Record | copiapo\n",
      "Processing Record | sibu\n",
      "Processing Record | lauria\n",
      "Processing Record | dibuluan\n",
      "Processing Record | grand gaube\n",
      "Processing Record | brigantine\n",
      "Processing Record | broome\n",
      "Processing Record | gazanjyk\n",
      "Processing Record | fuente de oro\n",
      "Processing Record | porto novo\n",
      "Processing Record | sao joao da barra\n",
      "Processing Record | pemberton\n",
      "Processing Record | muroto\n",
      "Processing Record | tabiauea\n",
      "City not found. Skipping...\n",
      "Processing Record | akyab\n",
      "Processing Record | cap malheureux\n",
      "Processing Record | kumylzhenskaya\n",
      "Processing Record | ancud\n",
      "Processing Record | razole\n",
      "Processing Record | bela vista\n",
      "Processing Record | bathsheba\n",
      "Processing Record | wuwei\n",
      "Processing Record | mount isa\n",
      "Processing Record | imeni poliny osipenko\n",
      "Processing Record | xanxere\n",
      "Processing Record | aborlan\n",
      "Processing Record | kazalinsk\n",
      "City not found. Skipping...\n",
      "Processing Record | kadyy\n",
      "Processing Record | falun\n",
      "Processing Record | rio cauto\n",
      "Processing Record | fort-shevchenko\n",
      "Processing Record | goksun\n",
      "Processing Record | flin flon\n",
      "Processing Record | nome\n",
      "Processing Record | bajil\n",
      "Processing Record | santa cruz del sur\n",
      "Processing Record | marcona\n",
      "City not found. Skipping...\n",
      "Processing Record | pachino\n",
      "Processing Record | adrar\n",
      "Processing Record | gravdal\n",
      "Processing Record | denpasar\n",
      "Processing Record | fuerte\n",
      "Processing Record | namibe\n",
      "Processing Record | apango\n",
      "Processing Record | malanje\n",
      "Processing Record | robertsport\n",
      "Processing Record | japura\n",
      "Processing Record | kapoeta\n",
      "Processing Record | rincon\n",
      "Processing Record | chara\n",
      "Processing Record | iwakuni\n",
      "all done\n"
     ]
    }
   ],
   "source": [
    "for city in cities:\n",
    "    \n",
    "    query = query_url + city\n",
    "    \n",
    "    #Try to grab the city\n",
    "    try:\n",
    "        response = requests.get(query).json()         \n",
    "        print(f'Processing Record | {city}')    \n",
    "        lat.append(response['coord']['lat'])\n",
    "        lng.append(response['coord']['lon'])\n",
    "        temp.append(response['main']['temp'])\n",
    "        max_temp.append(response['main']['temp_max'])\n",
    "        humidity.append(response['main']['humidity'])\n",
    "        clouds.append(response['clouds']['all'])\n",
    "        wind.append(response['wind']['speed'])\n",
    "        country.append(response['sys']['country'])\n",
    "        date.append(response['dt'])\n",
    "        \n",
    "    \n",
    "    except:\n",
    "        print(f'City not found. Skipping...')\n",
    "        pass\n",
    "    \n",
    "    time.sleep(1)\n",
    "    \n",
    "print(\"all done\")"
   ]
  },
  {
   "cell_type": "markdown",
   "metadata": {},
   "source": [
    "### Convert Raw Data to DataFrame\n",
    "* Export the city data into a .csv.\n",
    "* Display the DataFrame"
   ]
  },
  {
   "cell_type": "code",
   "execution_count": 6,
   "metadata": {},
   "outputs": [],
   "source": [
    "# create a data frame\n",
    "weather_dict = {\n",
    "    \"City\": cities,\n",
    "    \"Lat\": lat,\n",
    "    \"Lng\": lng,\n",
    "    \"Temperature\": temp,\n",
    "    \"Max Temp\": max_temp,\n",
    "    \"Humidity\": humidity,\n",
    "    \"Cloudiness\": clouds,\n",
    "    \"Wind Speed\": wind,\n",
    "    \"Country\": country,\n",
    "    \"Date\": date\n",
    "}\n",
    "\n",
    "#weather_data = pd.DataFrame(weather_dict)\n",
    "weather_data = pd.DataFrame.from_dict(weather_dict, orient=\"index\")\n",
    "weather_data = weather_data.transpose()"
   ]
  },
  {
   "cell_type": "code",
   "execution_count": 7,
   "metadata": {},
   "outputs": [],
   "source": [
    "weather_data[\"Date\"] = pd.to_datetime(weather_data[\"Date\"],unit=\"s\")"
   ]
  },
  {
   "cell_type": "code",
   "execution_count": 8,
   "metadata": {},
   "outputs": [
    {
     "data": {
      "text/html": [
       "<div>\n",
       "<style scoped>\n",
       "    .dataframe tbody tr th:only-of-type {\n",
       "        vertical-align: middle;\n",
       "    }\n",
       "\n",
       "    .dataframe tbody tr th {\n",
       "        vertical-align: top;\n",
       "    }\n",
       "\n",
       "    .dataframe thead th {\n",
       "        text-align: right;\n",
       "    }\n",
       "</style>\n",
       "<table border=\"1\" class=\"dataframe\">\n",
       "  <thead>\n",
       "    <tr style=\"text-align: right;\">\n",
       "      <th></th>\n",
       "      <th>City</th>\n",
       "      <th>Lat</th>\n",
       "      <th>Lng</th>\n",
       "      <th>Temperature</th>\n",
       "      <th>Max Temp</th>\n",
       "      <th>Humidity</th>\n",
       "      <th>Cloudiness</th>\n",
       "      <th>Wind Speed</th>\n",
       "      <th>Country</th>\n",
       "      <th>Date</th>\n",
       "    </tr>\n",
       "  </thead>\n",
       "  <tbody>\n",
       "    <tr>\n",
       "      <th>0</th>\n",
       "      <td>upernavik</td>\n",
       "      <td>72.7868</td>\n",
       "      <td>-56.1549</td>\n",
       "      <td>5.88</td>\n",
       "      <td>5.88</td>\n",
       "      <td>94</td>\n",
       "      <td>96</td>\n",
       "      <td>9.1</td>\n",
       "      <td>GL</td>\n",
       "      <td>2021-02-14 02:35:40</td>\n",
       "    </tr>\n",
       "    <tr>\n",
       "      <th>1</th>\n",
       "      <td>qaanaaq</td>\n",
       "      <td>77.484</td>\n",
       "      <td>-69.3632</td>\n",
       "      <td>8.62</td>\n",
       "      <td>8.62</td>\n",
       "      <td>77</td>\n",
       "      <td>0</td>\n",
       "      <td>5.68</td>\n",
       "      <td>GL</td>\n",
       "      <td>2021-02-14 02:35:41</td>\n",
       "    </tr>\n",
       "    <tr>\n",
       "      <th>2</th>\n",
       "      <td>ostrovnoy</td>\n",
       "      <td>68.0531</td>\n",
       "      <td>39.5131</td>\n",
       "      <td>-6.83</td>\n",
       "      <td>-6.83</td>\n",
       "      <td>91</td>\n",
       "      <td>72</td>\n",
       "      <td>5.61</td>\n",
       "      <td>RU</td>\n",
       "      <td>2021-02-14 02:32:09</td>\n",
       "    </tr>\n",
       "    <tr>\n",
       "      <th>3</th>\n",
       "      <td>ribeira grande</td>\n",
       "      <td>38.5167</td>\n",
       "      <td>-28.7</td>\n",
       "      <td>57.54</td>\n",
       "      <td>57.54</td>\n",
       "      <td>67</td>\n",
       "      <td>83</td>\n",
       "      <td>30.65</td>\n",
       "      <td>PT</td>\n",
       "      <td>2021-02-14 02:30:56</td>\n",
       "    </tr>\n",
       "    <tr>\n",
       "      <th>4</th>\n",
       "      <td>atuona</td>\n",
       "      <td>-9.8</td>\n",
       "      <td>-139.033</td>\n",
       "      <td>79.36</td>\n",
       "      <td>79.36</td>\n",
       "      <td>78</td>\n",
       "      <td>3</td>\n",
       "      <td>15.99</td>\n",
       "      <td>PF</td>\n",
       "      <td>2021-02-14 02:35:44</td>\n",
       "    </tr>\n",
       "    <tr>\n",
       "      <th>...</th>\n",
       "      <td>...</td>\n",
       "      <td>...</td>\n",
       "      <td>...</td>\n",
       "      <td>...</td>\n",
       "      <td>...</td>\n",
       "      <td>...</td>\n",
       "      <td>...</td>\n",
       "      <td>...</td>\n",
       "      <td>...</td>\n",
       "      <td>...</td>\n",
       "    </tr>\n",
       "    <tr>\n",
       "      <th>618</th>\n",
       "      <td>japura</td>\n",
       "      <td>None</td>\n",
       "      <td>None</td>\n",
       "      <td>None</td>\n",
       "      <td>None</td>\n",
       "      <td>None</td>\n",
       "      <td>None</td>\n",
       "      <td>None</td>\n",
       "      <td>None</td>\n",
       "      <td>NaT</td>\n",
       "    </tr>\n",
       "    <tr>\n",
       "      <th>619</th>\n",
       "      <td>kapoeta</td>\n",
       "      <td>None</td>\n",
       "      <td>None</td>\n",
       "      <td>None</td>\n",
       "      <td>None</td>\n",
       "      <td>None</td>\n",
       "      <td>None</td>\n",
       "      <td>None</td>\n",
       "      <td>None</td>\n",
       "      <td>NaT</td>\n",
       "    </tr>\n",
       "    <tr>\n",
       "      <th>620</th>\n",
       "      <td>rincon</td>\n",
       "      <td>None</td>\n",
       "      <td>None</td>\n",
       "      <td>None</td>\n",
       "      <td>None</td>\n",
       "      <td>None</td>\n",
       "      <td>None</td>\n",
       "      <td>None</td>\n",
       "      <td>None</td>\n",
       "      <td>NaT</td>\n",
       "    </tr>\n",
       "    <tr>\n",
       "      <th>621</th>\n",
       "      <td>chara</td>\n",
       "      <td>None</td>\n",
       "      <td>None</td>\n",
       "      <td>None</td>\n",
       "      <td>None</td>\n",
       "      <td>None</td>\n",
       "      <td>None</td>\n",
       "      <td>None</td>\n",
       "      <td>None</td>\n",
       "      <td>NaT</td>\n",
       "    </tr>\n",
       "    <tr>\n",
       "      <th>622</th>\n",
       "      <td>iwakuni</td>\n",
       "      <td>None</td>\n",
       "      <td>None</td>\n",
       "      <td>None</td>\n",
       "      <td>None</td>\n",
       "      <td>None</td>\n",
       "      <td>None</td>\n",
       "      <td>None</td>\n",
       "      <td>None</td>\n",
       "      <td>NaT</td>\n",
       "    </tr>\n",
       "  </tbody>\n",
       "</table>\n",
       "<p>623 rows × 10 columns</p>\n",
       "</div>"
      ],
      "text/plain": [
       "               City      Lat      Lng Temperature Max Temp Humidity  \\\n",
       "0         upernavik  72.7868 -56.1549        5.88     5.88       94   \n",
       "1           qaanaaq   77.484 -69.3632        8.62     8.62       77   \n",
       "2         ostrovnoy  68.0531  39.5131       -6.83    -6.83       91   \n",
       "3    ribeira grande  38.5167    -28.7       57.54    57.54       67   \n",
       "4            atuona     -9.8 -139.033       79.36    79.36       78   \n",
       "..              ...      ...      ...         ...      ...      ...   \n",
       "618          japura     None     None        None     None     None   \n",
       "619         kapoeta     None     None        None     None     None   \n",
       "620          rincon     None     None        None     None     None   \n",
       "621           chara     None     None        None     None     None   \n",
       "622         iwakuni     None     None        None     None     None   \n",
       "\n",
       "    Cloudiness Wind Speed Country                Date  \n",
       "0           96        9.1      GL 2021-02-14 02:35:40  \n",
       "1            0       5.68      GL 2021-02-14 02:35:41  \n",
       "2           72       5.61      RU 2021-02-14 02:32:09  \n",
       "3           83      30.65      PT 2021-02-14 02:30:56  \n",
       "4            3      15.99      PF 2021-02-14 02:35:44  \n",
       "..         ...        ...     ...                 ...  \n",
       "618       None       None    None                 NaT  \n",
       "619       None       None    None                 NaT  \n",
       "620       None       None    None                 NaT  \n",
       "621       None       None    None                 NaT  \n",
       "622       None       None    None                 NaT  \n",
       "\n",
       "[623 rows x 10 columns]"
      ]
     },
     "execution_count": 8,
     "metadata": {},
     "output_type": "execute_result"
    }
   ],
   "source": [
    "weather_data"
   ]
  },
  {
   "cell_type": "code",
   "execution_count": 9,
   "metadata": {},
   "outputs": [],
   "source": [
    "#save to a csv\n",
    "weather_data.to_csv(\"Output/cities.csv\", index=False, header=True)"
   ]
  },
  {
   "cell_type": "code",
   "execution_count": 5,
   "metadata": {},
   "outputs": [
    {
     "data": {
      "text/html": [
       "<div>\n",
       "<style scoped>\n",
       "    .dataframe tbody tr th:only-of-type {\n",
       "        vertical-align: middle;\n",
       "    }\n",
       "\n",
       "    .dataframe tbody tr th {\n",
       "        vertical-align: top;\n",
       "    }\n",
       "\n",
       "    .dataframe thead th {\n",
       "        text-align: right;\n",
       "    }\n",
       "</style>\n",
       "<table border=\"1\" class=\"dataframe\">\n",
       "  <thead>\n",
       "    <tr style=\"text-align: right;\">\n",
       "      <th></th>\n",
       "      <th>City</th>\n",
       "      <th>Lat</th>\n",
       "      <th>Lng</th>\n",
       "      <th>Temperature</th>\n",
       "      <th>Max Temp</th>\n",
       "      <th>Humidity</th>\n",
       "      <th>Cloudiness</th>\n",
       "      <th>Wind Speed</th>\n",
       "      <th>Country</th>\n",
       "      <th>Date</th>\n",
       "    </tr>\n",
       "  </thead>\n",
       "  <tbody>\n",
       "    <tr>\n",
       "      <th>0</th>\n",
       "      <td>upernavik</td>\n",
       "      <td>72.7868</td>\n",
       "      <td>-56.1549</td>\n",
       "      <td>5.88</td>\n",
       "      <td>5.88</td>\n",
       "      <td>94.0</td>\n",
       "      <td>96.0</td>\n",
       "      <td>9.10</td>\n",
       "      <td>GL</td>\n",
       "      <td>2021-02-14 02:35:40</td>\n",
       "    </tr>\n",
       "    <tr>\n",
       "      <th>1</th>\n",
       "      <td>qaanaaq</td>\n",
       "      <td>77.4840</td>\n",
       "      <td>-69.3632</td>\n",
       "      <td>8.62</td>\n",
       "      <td>8.62</td>\n",
       "      <td>77.0</td>\n",
       "      <td>0.0</td>\n",
       "      <td>5.68</td>\n",
       "      <td>GL</td>\n",
       "      <td>2021-02-14 02:35:41</td>\n",
       "    </tr>\n",
       "    <tr>\n",
       "      <th>2</th>\n",
       "      <td>ostrovnoy</td>\n",
       "      <td>68.0531</td>\n",
       "      <td>39.5131</td>\n",
       "      <td>-6.83</td>\n",
       "      <td>-6.83</td>\n",
       "      <td>91.0</td>\n",
       "      <td>72.0</td>\n",
       "      <td>5.61</td>\n",
       "      <td>RU</td>\n",
       "      <td>2021-02-14 02:32:09</td>\n",
       "    </tr>\n",
       "    <tr>\n",
       "      <th>3</th>\n",
       "      <td>ribeira grande</td>\n",
       "      <td>38.5167</td>\n",
       "      <td>-28.7000</td>\n",
       "      <td>57.54</td>\n",
       "      <td>57.54</td>\n",
       "      <td>67.0</td>\n",
       "      <td>83.0</td>\n",
       "      <td>30.65</td>\n",
       "      <td>PT</td>\n",
       "      <td>2021-02-14 02:30:56</td>\n",
       "    </tr>\n",
       "    <tr>\n",
       "      <th>4</th>\n",
       "      <td>atuona</td>\n",
       "      <td>-9.8000</td>\n",
       "      <td>-139.0333</td>\n",
       "      <td>79.36</td>\n",
       "      <td>79.36</td>\n",
       "      <td>78.0</td>\n",
       "      <td>3.0</td>\n",
       "      <td>15.99</td>\n",
       "      <td>PF</td>\n",
       "      <td>2021-02-14 02:35:44</td>\n",
       "    </tr>\n",
       "  </tbody>\n",
       "</table>\n",
       "</div>"
      ],
      "text/plain": [
       "             City      Lat       Lng  Temperature  Max Temp  Humidity  \\\n",
       "0       upernavik  72.7868  -56.1549         5.88      5.88      94.0   \n",
       "1         qaanaaq  77.4840  -69.3632         8.62      8.62      77.0   \n",
       "2       ostrovnoy  68.0531   39.5131        -6.83     -6.83      91.0   \n",
       "3  ribeira grande  38.5167  -28.7000        57.54     57.54      67.0   \n",
       "4          atuona  -9.8000 -139.0333        79.36     79.36      78.0   \n",
       "\n",
       "   Cloudiness  Wind Speed Country                 Date  \n",
       "0        96.0        9.10      GL  2021-02-14 02:35:40  \n",
       "1         0.0        5.68      GL  2021-02-14 02:35:41  \n",
       "2        72.0        5.61      RU  2021-02-14 02:32:09  \n",
       "3        83.0       30.65      PT  2021-02-14 02:30:56  \n",
       "4         3.0       15.99      PF  2021-02-14 02:35:44  "
      ]
     },
     "execution_count": 5,
     "metadata": {},
     "output_type": "execute_result"
    }
   ],
   "source": [
    "#read the csv to do the rest of the work\n",
    "weather_file = \"Output/cities.csv\"\n",
    "weather_data = pd.read_csv(weather_file)\n",
    "weather_data.head()"
   ]
  },
  {
   "cell_type": "code",
   "execution_count": 6,
   "metadata": {},
   "outputs": [
    {
     "data": {
      "text/html": [
       "<div>\n",
       "<style scoped>\n",
       "    .dataframe tbody tr th:only-of-type {\n",
       "        vertical-align: middle;\n",
       "    }\n",
       "\n",
       "    .dataframe tbody tr th {\n",
       "        vertical-align: top;\n",
       "    }\n",
       "\n",
       "    .dataframe thead th {\n",
       "        text-align: right;\n",
       "    }\n",
       "</style>\n",
       "<table border=\"1\" class=\"dataframe\">\n",
       "  <thead>\n",
       "    <tr style=\"text-align: right;\">\n",
       "      <th></th>\n",
       "      <th>Lat</th>\n",
       "      <th>Lng</th>\n",
       "      <th>Temperature</th>\n",
       "      <th>Max Temp</th>\n",
       "      <th>Humidity</th>\n",
       "      <th>Cloudiness</th>\n",
       "      <th>Wind Speed</th>\n",
       "      <th>Date</th>\n",
       "    </tr>\n",
       "  </thead>\n",
       "  <tbody>\n",
       "    <tr>\n",
       "      <th>count</th>\n",
       "      <td>576.000000</td>\n",
       "      <td>576.000000</td>\n",
       "      <td>576.000000</td>\n",
       "      <td>576.000000</td>\n",
       "      <td>576.000000</td>\n",
       "      <td>576.000000</td>\n",
       "      <td>576.000000</td>\n",
       "      <td>576.0</td>\n",
       "    </tr>\n",
       "    <tr>\n",
       "      <th>mean</th>\n",
       "      <td>21.037483</td>\n",
       "      <td>16.012024</td>\n",
       "      <td>47.811111</td>\n",
       "      <td>48.263872</td>\n",
       "      <td>75.911458</td>\n",
       "      <td>56.029514</td>\n",
       "      <td>7.470226</td>\n",
       "      <td>NaN</td>\n",
       "    </tr>\n",
       "    <tr>\n",
       "      <th>std</th>\n",
       "      <td>32.742206</td>\n",
       "      <td>91.486775</td>\n",
       "      <td>32.107253</td>\n",
       "      <td>32.078059</td>\n",
       "      <td>17.556690</td>\n",
       "      <td>39.804533</td>\n",
       "      <td>5.884313</td>\n",
       "      <td>NaN</td>\n",
       "    </tr>\n",
       "    <tr>\n",
       "      <th>min</th>\n",
       "      <td>-54.800000</td>\n",
       "      <td>-175.200000</td>\n",
       "      <td>-38.130000</td>\n",
       "      <td>-38.130000</td>\n",
       "      <td>15.000000</td>\n",
       "      <td>0.000000</td>\n",
       "      <td>0.220000</td>\n",
       "      <td>NaN</td>\n",
       "    </tr>\n",
       "    <tr>\n",
       "      <th>max</th>\n",
       "      <td>78.218600</td>\n",
       "      <td>179.316700</td>\n",
       "      <td>90.590000</td>\n",
       "      <td>90.590000</td>\n",
       "      <td>100.000000</td>\n",
       "      <td>100.000000</td>\n",
       "      <td>48.300000</td>\n",
       "      <td>NaN</td>\n",
       "    </tr>\n",
       "  </tbody>\n",
       "</table>\n",
       "</div>"
      ],
      "text/plain": [
       "              Lat         Lng  Temperature    Max Temp    Humidity  \\\n",
       "count  576.000000  576.000000   576.000000  576.000000  576.000000   \n",
       "mean    21.037483   16.012024    47.811111   48.263872   75.911458   \n",
       "std     32.742206   91.486775    32.107253   32.078059   17.556690   \n",
       "min    -54.800000 -175.200000   -38.130000  -38.130000   15.000000   \n",
       "max     78.218600  179.316700    90.590000   90.590000  100.000000   \n",
       "\n",
       "       Cloudiness  Wind Speed   Date  \n",
       "count  576.000000  576.000000  576.0  \n",
       "mean    56.029514    7.470226    NaN  \n",
       "std     39.804533    5.884313    NaN  \n",
       "min      0.000000    0.220000    NaN  \n",
       "max    100.000000   48.300000    NaN  "
      ]
     },
     "execution_count": 6,
     "metadata": {},
     "output_type": "execute_result"
    }
   ],
   "source": [
    "#drop city and country\n",
    "summary_stats = weather_data\n",
    "del summary_stats[\"City\"]\n",
    "del summary_stats[\"Country\"]\n",
    "summary_stats = weather_data.transpose()\n",
    "# Using the aggregation method, produce a data summary statistics \n",
    "summary_stats = weather_data.agg([\"count\",\"mean\",\"std\",\"min\",\"max\"])\n",
    "summary_stats"
   ]
  },
  {
   "cell_type": "code",
   "execution_count": 7,
   "metadata": {},
   "outputs": [
    {
     "data": {
      "text/html": [
       "<div>\n",
       "<style scoped>\n",
       "    .dataframe tbody tr th:only-of-type {\n",
       "        vertical-align: middle;\n",
       "    }\n",
       "\n",
       "    .dataframe tbody tr th {\n",
       "        vertical-align: top;\n",
       "    }\n",
       "\n",
       "    .dataframe thead th {\n",
       "        text-align: right;\n",
       "    }\n",
       "</style>\n",
       "<table border=\"1\" class=\"dataframe\">\n",
       "  <thead>\n",
       "    <tr style=\"text-align: right;\">\n",
       "      <th></th>\n",
       "      <th>Lat</th>\n",
       "      <th>Lng</th>\n",
       "      <th>Temperature</th>\n",
       "      <th>Max Temp</th>\n",
       "      <th>Humidity</th>\n",
       "      <th>Cloudiness</th>\n",
       "      <th>Wind Speed</th>\n",
       "      <th>Date</th>\n",
       "    </tr>\n",
       "  </thead>\n",
       "  <tbody>\n",
       "    <tr>\n",
       "      <th>count</th>\n",
       "      <td>5.000000</td>\n",
       "      <td>5.000000</td>\n",
       "      <td>5.000000</td>\n",
       "      <td>5.000000</td>\n",
       "      <td>5.000000</td>\n",
       "      <td>5.000000</td>\n",
       "      <td>5.000000</td>\n",
       "      <td>1.0</td>\n",
       "    </tr>\n",
       "    <tr>\n",
       "      <th>mean</th>\n",
       "      <td>130.639658</td>\n",
       "      <td>137.523100</td>\n",
       "      <td>141.675673</td>\n",
       "      <td>141.760386</td>\n",
       "      <td>156.893630</td>\n",
       "      <td>154.366809</td>\n",
       "      <td>127.574908</td>\n",
       "      <td>576.0</td>\n",
       "    </tr>\n",
       "    <tr>\n",
       "      <th>std</th>\n",
       "      <td>253.514406</td>\n",
       "      <td>277.798812</td>\n",
       "      <td>247.180724</td>\n",
       "      <td>247.141059</td>\n",
       "      <td>237.167521</td>\n",
       "      <td>238.408341</td>\n",
       "      <td>251.407330</td>\n",
       "      <td>NaN</td>\n",
       "    </tr>\n",
       "    <tr>\n",
       "      <th>min</th>\n",
       "      <td>-54.800000</td>\n",
       "      <td>-175.200000</td>\n",
       "      <td>-38.130000</td>\n",
       "      <td>-38.130000</td>\n",
       "      <td>15.000000</td>\n",
       "      <td>0.000000</td>\n",
       "      <td>0.220000</td>\n",
       "      <td>576.0</td>\n",
       "    </tr>\n",
       "    <tr>\n",
       "      <th>25%</th>\n",
       "      <td>21.037483</td>\n",
       "      <td>16.012024</td>\n",
       "      <td>32.107253</td>\n",
       "      <td>32.078059</td>\n",
       "      <td>17.556690</td>\n",
       "      <td>39.804533</td>\n",
       "      <td>5.884313</td>\n",
       "      <td>576.0</td>\n",
       "    </tr>\n",
       "    <tr>\n",
       "      <th>50%</th>\n",
       "      <td>32.742206</td>\n",
       "      <td>91.486775</td>\n",
       "      <td>47.811111</td>\n",
       "      <td>48.263872</td>\n",
       "      <td>75.911458</td>\n",
       "      <td>56.029514</td>\n",
       "      <td>7.470226</td>\n",
       "      <td>576.0</td>\n",
       "    </tr>\n",
       "    <tr>\n",
       "      <th>75%</th>\n",
       "      <td>78.218600</td>\n",
       "      <td>179.316700</td>\n",
       "      <td>90.590000</td>\n",
       "      <td>90.590000</td>\n",
       "      <td>100.000000</td>\n",
       "      <td>100.000000</td>\n",
       "      <td>48.300000</td>\n",
       "      <td>576.0</td>\n",
       "    </tr>\n",
       "    <tr>\n",
       "      <th>max</th>\n",
       "      <td>576.000000</td>\n",
       "      <td>576.000000</td>\n",
       "      <td>576.000000</td>\n",
       "      <td>576.000000</td>\n",
       "      <td>576.000000</td>\n",
       "      <td>576.000000</td>\n",
       "      <td>576.000000</td>\n",
       "      <td>576.0</td>\n",
       "    </tr>\n",
       "  </tbody>\n",
       "</table>\n",
       "</div>"
      ],
      "text/plain": [
       "              Lat         Lng  Temperature    Max Temp    Humidity  \\\n",
       "count    5.000000    5.000000     5.000000    5.000000    5.000000   \n",
       "mean   130.639658  137.523100   141.675673  141.760386  156.893630   \n",
       "std    253.514406  277.798812   247.180724  247.141059  237.167521   \n",
       "min    -54.800000 -175.200000   -38.130000  -38.130000   15.000000   \n",
       "25%     21.037483   16.012024    32.107253   32.078059   17.556690   \n",
       "50%     32.742206   91.486775    47.811111   48.263872   75.911458   \n",
       "75%     78.218600  179.316700    90.590000   90.590000  100.000000   \n",
       "max    576.000000  576.000000   576.000000  576.000000  576.000000   \n",
       "\n",
       "       Cloudiness  Wind Speed   Date  \n",
       "count    5.000000    5.000000    1.0  \n",
       "mean   154.366809  127.574908  576.0  \n",
       "std    238.408341  251.407330    NaN  \n",
       "min      0.000000    0.220000  576.0  \n",
       "25%     39.804533    5.884313  576.0  \n",
       "50%     56.029514    7.470226  576.0  \n",
       "75%    100.000000   48.300000  576.0  \n",
       "max    576.000000  576.000000  576.0  "
      ]
     },
     "execution_count": 7,
     "metadata": {},
     "output_type": "execute_result"
    }
   ],
   "source": [
    "#full stats summary - not using aggregation method\n",
    "summary_stats.describe()"
   ]
  },
  {
   "cell_type": "markdown",
   "metadata": {},
   "source": [
    "## Inspect the data and remove the cities where the humidity > 100%.\n",
    "----\n",
    "Skip this step if there are no cities that have humidity > 100%. "
   ]
  },
  {
   "cell_type": "code",
   "execution_count": 12,
   "metadata": {},
   "outputs": [
    {
     "data": {
      "text/html": [
       "<div>\n",
       "<style scoped>\n",
       "    .dataframe tbody tr th:only-of-type {\n",
       "        vertical-align: middle;\n",
       "    }\n",
       "\n",
       "    .dataframe tbody tr th {\n",
       "        vertical-align: top;\n",
       "    }\n",
       "\n",
       "    .dataframe thead th {\n",
       "        text-align: right;\n",
       "    }\n",
       "</style>\n",
       "<table border=\"1\" class=\"dataframe\">\n",
       "  <thead>\n",
       "    <tr style=\"text-align: right;\">\n",
       "      <th></th>\n",
       "      <th>Lat</th>\n",
       "      <th>Lng</th>\n",
       "      <th>Temperature</th>\n",
       "      <th>Max Temp</th>\n",
       "      <th>Humidity</th>\n",
       "      <th>Cloudiness</th>\n",
       "      <th>Wind Speed</th>\n",
       "      <th>Date</th>\n",
       "    </tr>\n",
       "  </thead>\n",
       "  <tbody>\n",
       "  </tbody>\n",
       "</table>\n",
       "</div>"
      ],
      "text/plain": [
       "Empty DataFrame\n",
       "Columns: [Lat, Lng, Temperature, Max Temp, Humidity, Cloudiness, Wind Speed, Date]\n",
       "Index: []"
      ]
     },
     "execution_count": 12,
     "metadata": {},
     "output_type": "execute_result"
    }
   ],
   "source": [
    "humidity_100 = weather_data.loc[(weather_data[\"Humidity\"] > 100)]\n",
    "humidity_100"
   ]
  },
  {
   "cell_type": "code",
   "execution_count": 13,
   "metadata": {},
   "outputs": [],
   "source": [
    "#  Get the indices of cities that have humidity over 100%.\n"
   ]
  },
  {
   "cell_type": "code",
   "execution_count": 14,
   "metadata": {},
   "outputs": [],
   "source": [
    "# Make a new DataFrame equal to the city data to drop all humidity outliers by index.\n",
    "# Passing \"inplace=False\" will make a copy of the city_data DataFrame, which we call \"clean_city_data\".\n"
   ]
  },
  {
   "cell_type": "markdown",
   "metadata": {},
   "source": [
    "## Plotting the Data\n",
    "* Use proper labeling of the plots using plot titles (including date of analysis) and axes labels.\n",
    "* Save the plotted figures as .pngs."
   ]
  },
  {
   "cell_type": "markdown",
   "metadata": {},
   "source": [
    "## Latitude vs. Temperature Plot"
   ]
  },
  {
   "cell_type": "code",
   "execution_count": 15,
   "metadata": {
    "scrolled": true
   },
   "outputs": [
    {
     "data": {
      "image/png": "[encoded data removed]",
      "text/plain": [
       "<Figure size 432x288 with 1 Axes>"
      ]
     },
     "metadata": {
      "needs_background": "light"
     },
     "output_type": "display_data"
    }
   ],
   "source": [
    "plt.scatter(weather_data['Lat'], weather_data['Temperature'])\n",
    "plt.ylabel(\"Temperature (F)\")\n",
    "plt.xlabel(\"Latitude\")\n",
    "plt.title('City Latitude vs. Temperature')\n",
    "plt.show()"
   ]
  },
  {
   "cell_type": "markdown",
   "metadata": {},
   "source": [
    "#this scatter plot shows latitude versus temperature at a city. It shows that at the equater the temperatures are higher and the farther you get away from the equater (which is zero) the cooler temeratures are. "
   ]
  },
  {
   "cell_type": "markdown",
   "metadata": {},
   "source": [
    "## Latitude vs. Humidity Plot"
   ]
  },
  {
   "cell_type": "code",
   "execution_count": 16,
   "metadata": {},
   "outputs": [
    {
     "data": {
      "image/png": "[encoded data removed]",
      "text/plain": [
       "<Figure size 432x288 with 1 Axes>"
      ]
     },
     "metadata": {
      "needs_background": "light"
     },
     "output_type": "display_data"
    }
   ],
   "source": [
    "plt.scatter(weather_data['Lat'], weather_data['Humidity'])\n",
    "plt.ylabel(\"Humidity\")\n",
    "plt.xlabel(\"Latitude\")\n",
    "plt.title(\"City Latitude vs. Humidity\")\n",
    "plt.show()"
   ]
  },
  {
   "cell_type": "markdown",
   "metadata": {},
   "source": [
    "#this scatter plot shows latitude versus humidity. it shows that there is a wide range of humidity along all latitudes. "
   ]
  },
  {
   "cell_type": "markdown",
   "metadata": {},
   "source": [
    "## Latitude vs. Cloudiness Plot"
   ]
  },
  {
   "cell_type": "code",
   "execution_count": 17,
   "metadata": {},
   "outputs": [
    {
     "data": {
      "image/png": "[encoded data removed]",
      "text/plain": [
       "<Figure size 432x288 with 1 Axes>"
      ]
     },
     "metadata": {
      "needs_background": "light"
     },
     "output_type": "display_data"
    }
   ],
   "source": [
    "plt.scatter(weather_data['Lat'], weather_data['Cloudiness'])\n",
    "plt.ylabel(\"Cloudiness\")\n",
    "plt.xlabel(\"Latitude\")\n",
    "plt.title(\"City Latitude vs. Cloudiness\")\n",
    "plt.show()"
   ]
  },
  {
   "cell_type": "markdown",
   "metadata": {},
   "source": [
    "#this is a scatter plot of latitude versus cloudiness. It seems to show that cloudiness seems to cluster along certain percentage points such as zero -- no clouds, 80 -- partly cloudy, and 100 -- very cloudy.  "
   ]
  },
  {
   "cell_type": "markdown",
   "metadata": {},
   "source": [
    "## Latitude vs. Wind Speed Plot"
   ]
  },
  {
   "cell_type": "code",
   "execution_count": 18,
   "metadata": {},
   "outputs": [
    {
     "data": {
      "image/png": "[encoded data removed]",
      "text/plain": [
       "<Figure size 432x288 with 1 Axes>"
      ]
     },
     "metadata": {
      "needs_background": "light"
     },
     "output_type": "display_data"
    }
   ],
   "source": [
    "plt.scatter(weather_data['Lat'], weather_data['Wind Speed'])\n",
    "plt.ylabel(\"Wind Speed (mph)\")\n",
    "plt.xlabel(\"Latitude\")\n",
    "plt.title(\"City Latitude vs. Wind Speed\")\n",
    "plt.show()"
   ]
  },
  {
   "cell_type": "markdown",
   "metadata": {},
   "source": [
    "#this is a scatter plot showing latitude versus wind speed. It shows that windspeeds vary across all latitudes. Generally the more common wind speeds are between zero and ten miles per hour. "
   ]
  },
  {
   "cell_type": "markdown",
   "metadata": {},
   "source": [
    "## Linear Regression"
   ]
  },
  {
   "cell_type": "code",
   "execution_count": 19,
   "metadata": {},
   "outputs": [],
   "source": [
    "#read the csv to do the rest of the work\n",
    "weather_file = \"Output/cities.csv\"\n",
    "weather_data = pd.read_csv(weather_file)"
   ]
  },
  {
   "cell_type": "code",
   "execution_count": 20,
   "metadata": {},
   "outputs": [],
   "source": [
    "#set up a dataframe for northern hemisphere\n",
    "northern_hemisphere = weather_data[[\"City\", \"Lat\", \"Temperature\", \"Max Temp\", \"Humidity\",\"Cloudiness\",\n",
    "                                    \"Wind Speed\"]].loc[(weather_data[\"Lat\"] >= 0)]\n",
    "\n",
    "#set up a dataframe for southern hemisphere\n",
    "southern_hemisphere = weather_data[[\"City\",\"Lat\",\"Temperature\", \"Max Temp\", \"Humidity\",\"Cloudiness\",\n",
    "                                    \"Wind Speed\"]].loc[(weather_data[\"Lat\"] <= 0)]\n",
    "Date = weather_data[\"Date\"][0]"
   ]
  },
  {
   "cell_type": "markdown",
   "metadata": {},
   "source": [
    "####  Northern Hemisphere - Max Temp vs. Latitude Linear Regression"
   ]
  },
  {
   "cell_type": "code",
   "execution_count": 21,
   "metadata": {},
   "outputs": [
    {
     "name": "stdout",
     "output_type": "stream",
     "text": [
      "The r-squared is: 0.7966533640618217\n"
     ]
    },
    {
     "data": {
      "image/png": "[encoded data removed]",
      "text/plain": [
       "<Figure size 432x288 with 1 Axes>"
      ]
     },
     "metadata": {
      "needs_background": "light"
     },
     "output_type": "display_data"
    }
   ],
   "source": [
    "x_values = northern_hemisphere[\"Lat\"]\n",
    "y_values = northern_hemisphere[\"Max Temp\"]\n",
    "(slope, intercept, rvalue, pvalue, stderr) = linregress(x_values, y_values)\n",
    "regress_values = x_values * slope + intercept\n",
    "line_eq = \"y = \" + str(round(slope,2)) + \"x + \" + str(round(intercept,2))\n",
    "plt.scatter(x_values,y_values)\n",
    "plt.plot(x_values,regress_values,\"r-\")\n",
    "plt.annotate(line_eq,(0, 0),fontsize=15,color=\"red\")\n",
    "plt.xlabel('Latitude')\n",
    "plt.ylabel('Max Temp')\n",
    "plt.title(f\"Northern Hemisphere - Max Temp vs. Latitude Linear Regression {Date}\")\n",
    "print(f'The r-squared is: {rvalue**2}')\n",
    "\n",
    "plt.savefig('northern_hemisphere_max_temp_vs_latitude_linereg.png')\n",
    "\n",
    "plt.show()"
   ]
  },
  {
   "cell_type": "markdown",
   "metadata": {},
   "source": [
    "####  Southern Hemisphere - Max Temp vs. Latitude Linear Regression"
   ]
  },
  {
   "cell_type": "code",
   "execution_count": 22,
   "metadata": {},
   "outputs": [
    {
     "name": "stdout",
     "output_type": "stream",
     "text": [
      "The r-squared is: 0.20483623960493547\n"
     ]
    },
    {
     "data": {
      "image/png": "[encoded data removed]",
      "text/plain": [
       "<Figure size 432x288 with 1 Axes>"
      ]
     },
     "metadata": {
      "needs_background": "light"
     },
     "output_type": "display_data"
    }
   ],
   "source": [
    "x_values = southern_hemisphere[\"Lat\"]\n",
    "y_values = southern_hemisphere[\"Max Temp\"]\n",
    "(slope, intercept, rvalue, pvalue, stderr) = linregress(x_values, y_values)\n",
    "regress_values = x_values * slope + intercept\n",
    "line_eq = \"y = \" + str(round(slope,2)) + \"x + \" + str(round(intercept,2))\n",
    "plt.scatter(x_values,y_values)\n",
    "plt.plot(x_values,regress_values,\"r-\")\n",
    "plt.annotate(line_eq,(-30, 50),fontsize=15,color=\"red\")\n",
    "plt.xlabel('Latitude')\n",
    "plt.ylabel('Max Temp')\n",
    "plt.title(f\"Southern Hemisphere - Max Temp vs. Latitude Linear Regression {Date}\")\n",
    "print(f'The r-squared is: {rvalue**2}')\n",
    "\n",
    "\n",
    "plt.savefig('southern_hemisphere_max_temp_vs_latitude_linereg.png')\n",
    "\n",
    "plt.show()"
   ]
  },
  {
   "cell_type": "markdown",
   "metadata": {},
   "source": [
    "#### Summary of correlation between maximum temperature and latitude \n",
    "These two graphs show a scatter plot with linear regression for both the northern and southern hemispheres of maximum temperatures. There is a higher correlation in the northern hemisphere between latitude and maximum temperature than in the southern hemisphere. There are many more outliers in the southern hemisphere meaning it would be harder to predict the temperatures based on latitude in the southern hemisphere."
   ]
  },
  {
   "cell_type": "markdown",
   "metadata": {},
   "source": [
    "####  Northern Hemisphere - Humidity (%) vs. Latitude Linear Regression"
   ]
  },
  {
   "cell_type": "code",
   "execution_count": 23,
   "metadata": {},
   "outputs": [
    {
     "name": "stdout",
     "output_type": "stream",
     "text": [
      "The r-squared is: 0.09296265309185447\n"
     ]
    },
    {
     "data": {
      "image/png": "[encoded data removed]",
      "text/plain": [
       "<Figure size 432x288 with 1 Axes>"
      ]
     },
     "metadata": {
      "needs_background": "light"
     },
     "output_type": "display_data"
    }
   ],
   "source": [
    "x_values = northern_hemisphere[\"Lat\"]\n",
    "y_values = northern_hemisphere[\"Humidity\"]\n",
    "(slope, intercept, rvalue, pvalue, stderr) = linregress(x_values, y_values)\n",
    "regress_values = x_values * slope + intercept\n",
    "line_eq = \"y = \" + str(round(slope,2)) + \"x + \" + str(round(intercept,2))\n",
    "plt.scatter(x_values,y_values)\n",
    "plt.plot(x_values,regress_values,\"r-\")\n",
    "plt.annotate(line_eq,(40, 10),fontsize=15,color=\"red\")\n",
    "plt.xlabel('Latitude')\n",
    "plt.ylabel('Humidity')\n",
    "plt.title(f\"Northern Hemisphere - Humidity (%) vs. Latitude Linear Regression {Date}\")\n",
    "print(f'The r-squared is: {rvalue**2}')\n",
    "\n",
    "plt.savefig('northern_hemisphere_humid_vs_latitude_linereg.png')\n",
    "\n",
    "plt.show()"
   ]
  },
  {
   "cell_type": "markdown",
   "metadata": {},
   "source": [
    "####  Southern Hemisphere - Humidity (%) vs. Latitude Linear Regression"
   ]
  },
  {
   "cell_type": "code",
   "execution_count": 24,
   "metadata": {},
   "outputs": [
    {
     "name": "stdout",
     "output_type": "stream",
     "text": [
      "The r-squared is: 0.034546842744288916\n"
     ]
    },
    {
     "data": {
      "image/png": "[encoded data removed]",
      "text/plain": [
       "<Figure size 432x288 with 1 Axes>"
      ]
     },
     "metadata": {
      "needs_background": "light"
     },
     "output_type": "display_data"
    }
   ],
   "source": [
    "x_values = southern_hemisphere[\"Lat\"]\n",
    "y_values = southern_hemisphere[\"Humidity\"]\n",
    "(slope, intercept, rvalue, pvalue, stderr) = linregress(x_values, y_values)\n",
    "regress_values = x_values * slope + intercept\n",
    "line_eq = \"y = \" + str(round(slope,2)) + \"x + \" + str(round(intercept,2))\n",
    "plt.scatter(x_values,y_values)\n",
    "plt.plot(x_values,regress_values,\"r-\")\n",
    "plt.annotate(line_eq,(-25, 20),fontsize=15,color=\"red\")\n",
    "plt.xlabel('Latitude')\n",
    "plt.ylabel('Humidity')\n",
    "plt.title(f\"Southern Hemisphere - Humidity (%) vs. Latitude Linear Regression {Date}\")\n",
    "print(f'The r-squared is: {rvalue**2}')\n",
    "\n",
    "plt.savefig('southern_hemisphere_humid_vs_latitude_linereg.png')\n",
    "\n",
    "plt.show()"
   ]
  },
  {
   "cell_type": "markdown",
   "metadata": {},
   "source": [
    "#### Summary of correlation between humidity and latitude\n",
    "These two graphs show a scatter plot with linear regression for both the northern and southern hemispheres of humidity. There correlation is similar in both hemispheres, with very little correlation between humidity and latitude. This would lead us to wonder if there are much more significant influences on humidity than where you are on the globe. "
   ]
  },
  {
   "cell_type": "markdown",
   "metadata": {},
   "source": [
    "####  Northern Hemisphere - Cloudiness (%) vs. Latitude Linear Regression"
   ]
  },
  {
   "cell_type": "code",
   "execution_count": 25,
   "metadata": {},
   "outputs": [
    {
     "name": "stdout",
     "output_type": "stream",
     "text": [
      "The r-squared is: 0.07116003421600824\n"
     ]
    },
    {
     "data": {
      "image/png": "[encoded data removed]",
      "text/plain": [
       "<Figure size 432x288 with 1 Axes>"
      ]
     },
     "metadata": {
      "needs_background": "light"
     },
     "output_type": "display_data"
    }
   ],
   "source": [
    "x_values = northern_hemisphere[\"Lat\"]\n",
    "y_values = northern_hemisphere[\"Cloudiness\"]\n",
    "(slope, intercept, rvalue, pvalue, stderr) = linregress(x_values, y_values)\n",
    "regress_values = x_values * slope + intercept\n",
    "line_eq = \"y = \" + str(round(slope,2)) + \"x + \" + str(round(intercept,2))\n",
    "plt.scatter(x_values,y_values)\n",
    "plt.plot(x_values,regress_values,\"r-\")\n",
    "plt.annotate(line_eq,(40, 30),fontsize=15,color=\"red\")\n",
    "plt.xlabel('Latitude')\n",
    "plt.ylabel('Cloudiness')\n",
    "plt.title(f\"Northern Hemisphere - Cloudiness (%) vs. Latitude Linear Regression {Date}\")\n",
    "print(f'The r-squared is: {rvalue**2}')\n",
    "\n",
    "plt.savefig('northern_hemisphere_cloud_vs_latitude_linereg.png')\n",
    "\n",
    "plt.show()"
   ]
  },
  {
   "cell_type": "markdown",
   "metadata": {},
   "source": [
    "####  Southern Hemisphere - Cloudiness (%) vs. Latitude Linear Regression"
   ]
  },
  {
   "cell_type": "code",
   "execution_count": 26,
   "metadata": {},
   "outputs": [
    {
     "name": "stdout",
     "output_type": "stream",
     "text": [
      "The r-squared is: 0.07650053874663995\n"
     ]
    },
    {
     "data": {
      "image/png": "[encoded data removed]",
      "text/plain": [
       "<Figure size 432x288 with 1 Axes>"
      ]
     },
     "metadata": {
      "needs_background": "light"
     },
     "output_type": "display_data"
    }
   ],
   "source": [
    "x_values = southern_hemisphere[\"Lat\"]\n",
    "y_values = southern_hemisphere[\"Cloudiness\"]\n",
    "(slope, intercept, rvalue, pvalue, stderr) = linregress(x_values, y_values)\n",
    "regress_values = x_values * slope + intercept\n",
    "line_eq = \"y = \" + str(round(slope,2)) + \"x + \" + str(round(intercept,2))\n",
    "plt.scatter(x_values,y_values)\n",
    "plt.plot(x_values,regress_values,\"r-\")\n",
    "plt.annotate(line_eq,(-55, 60),fontsize=15,color=\"red\")\n",
    "plt.xlabel('Latitude')\n",
    "plt.ylabel('Cloudiness')\n",
    "plt.title(f\"Southern Hemisphere - Cloudiness (%) vs. Latitude Linear Regression {Date}\")\n",
    "print(f'The r-squared is: {rvalue**2}')\n",
    "\n",
    "plt.savefig('southern_hemisphere_cloud_vs_latitude_linereg.png')\n",
    "\n",
    "plt.show()"
   ]
  },
  {
   "cell_type": "markdown",
   "metadata": {},
   "source": [
    "#### Summary of correlation between cloudiness and latitude\n",
    "These two graphs show a scatter plot with linear regression for both the northern and southern hemispheres of cloudiness. There correlation is similar in both hemispheres, with very little correlation between cloudiness and latitude. It looks from these charts that it could be cloudier in the northern hemisphere than in the southern hemisphere. "
   ]
  },
  {
   "cell_type": "markdown",
   "metadata": {},
   "source": [
    "####  Northern Hemisphere - Wind Speed (mph) vs. Latitude Linear Regression"
   ]
  },
  {
   "cell_type": "code",
   "execution_count": 27,
   "metadata": {},
   "outputs": [
    {
     "name": "stdout",
     "output_type": "stream",
     "text": [
      "The r-squared is: 0.010115650352216699\n"
     ]
    },
    {
     "data": {
      "image/png": "[encoded data removed]",
      "text/plain": [
       "<Figure size 432x288 with 1 Axes>"
      ]
     },
     "metadata": {
      "needs_background": "light"
     },
     "output_type": "display_data"
    }
   ],
   "source": [
    "x_values = northern_hemisphere[\"Lat\"]\n",
    "y_values = northern_hemisphere[\"Wind Speed\"]\n",
    "(slope, intercept, rvalue, pvalue, stderr) = linregress(x_values, y_values)\n",
    "regress_values = x_values * slope + intercept\n",
    "line_eq = \"y = \" + str(round(slope,2)) + \"x + \" + str(round(intercept,2))\n",
    "plt.scatter(x_values,y_values)\n",
    "plt.plot(x_values,regress_values,\"r-\")\n",
    "plt.annotate(line_eq,(0, 40),fontsize=15,color=\"red\")\n",
    "plt.xlabel('Latitude')\n",
    "plt.ylabel('Wind speed (Mph)')\n",
    "plt.title(f\"Northern Hemisphere - Wind Speed (Mph) vs. Latitude Linear Regression {Date}\")\n",
    "print(f'The r-squared is: {rvalue**2}')\n",
    "\n",
    "plt.savefig('northern_hemisphere_wind_vs_latitude_linereg.png')\n",
    "\n",
    "plt.show()"
   ]
  },
  {
   "cell_type": "markdown",
   "metadata": {},
   "source": [
    "####  Southern Hemisphere - Wind Speed (mph) vs. Latitude Linear Regression"
   ]
  },
  {
   "cell_type": "code",
   "execution_count": 28,
   "metadata": {},
   "outputs": [
    {
     "name": "stdout",
     "output_type": "stream",
     "text": [
      "The r-squared is: 0.014004042619565372\n"
     ]
    },
    {
     "data": {
      "image/png": "[encoded data removed]",
      "text/plain": [
       "<Figure size 432x288 with 1 Axes>"
      ]
     },
     "metadata": {
      "needs_background": "light"
     },
     "output_type": "display_data"
    }
   ],
   "source": [
    "x_values = southern_hemisphere[\"Lat\"]\n",
    "y_values = southern_hemisphere[\"Wind Speed\"]\n",
    "(slope, intercept, rvalue, pvalue, stderr) = linregress(x_values, y_values)\n",
    "regress_values = x_values * slope + intercept\n",
    "line_eq = \"y = \" + str(round(slope,2)) + \"x + \" + str(round(intercept,2))\n",
    "plt.scatter(x_values,y_values)\n",
    "plt.plot(x_values,regress_values,\"r-\")\n",
    "plt.annotate(line_eq,(-25, 30),fontsize=15,color=\"red\")\n",
    "plt.xlabel('Latitude')\n",
    "plt.ylabel('Wind speed (Mph)')\n",
    "plt.title(f\"Southern Hemisphere - Wind Speed (Mph) vs. Latitude Linear Regression {Date}\")\n",
    "print(f'The r-squared is: {rvalue**2}')\n",
    "\n",
    "plt.savefig('southern_hemisphere_wind_vs_latitude_linereg.png')\n",
    "\n",
    "plt.show()"
   ]
  },
  {
   "cell_type": "markdown",
   "metadata": {},
   "source": [
    "#### Summary of correlation between wind speed and latitude\n",
    "These two graphs show a scatter plot with linear regression for both the northern and southern hemispheres of wind speed. There correlation is very low for both hemispheres leading us to expect that as with cloudiness and humidity there must be more influences on what causes windiness than where you're at on the globe."
   ]
  }
 ],
 "metadata": {
  "anaconda-cloud": {},
  "kernel_info": {
   "name": "python3"
  },
  "kernelspec": {
   "display_name": "Python 3",
   "language": "python",
   "name": "python3"
  },
  "language_info": {
   "codemirror_mode": {
    "name": "ipython",
    "version": 3
   },
   "file_extension": ".py",
   "mimetype": "text/x-python",
   "name": "python",
   "nbconvert_exporter": "python",
   "pygments_lexer": "ipython3",
   "version": "3.6.10"
  },
  "latex_envs": {
   "LaTeX_envs_menu_present": true,
   "autoclose": false,
   "autocomplete": true,
   "bibliofile": "biblio.bib",
   "cite_by": "apalike",
   "current_citInitial": 1,
   "eqLabelWithNumbers": true,
   "eqNumInitial": 1,
   "hotkeys": {
    "equation": "Ctrl-E",
    "itemize": "Ctrl-I"
   },
   "labels_anchors": false,
   "latex_user_defs": false,
   "report_style_numbering": false,
   "user_envs_cfg": false
  },
  "nteract": {
   "version": "0.12.3"
  }
 },
 "nbformat": 4,
 "nbformat_minor": 2
}
